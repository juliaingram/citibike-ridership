{
 "cells": [
  {
   "cell_type": "markdown",
   "id": "6e34d7dd",
   "metadata": {},
   "source": [
    "# How has Citi Bike ridership changed during the pandemic?\n",
    "\n",
    "This notebook examines data [published by Citibike](https://ride.citibikenyc.com/system-data) on all trips taken using its rideshare program. \n",
    "\n",
    "This project seeks to quantify the increase in Citi Bike ridership during the pandemic and understand how geographic riding patterns may have changed during that increase. \n",
    "\n",
    "Questions:\n",
    "- How much exactly has Citi Bike ridership grown?\n",
    "- Are people still using Citi Bike to commute during rush hour? Has rush hour for Citi Bike shifted?\n",
    "- How does Citi Bike ridership compare with MTA subway ridership?\n",
    "- Has the ratio of casual vs. member riders shifted?\n",
    "- What are the most common paths (docks riders begin and end trips at) taken by Citi Bike riders? How has that changed?"
   ]
  },
  {
   "cell_type": "markdown",
   "id": "a6d576ea",
   "metadata": {},
   "source": [
    "### Imports, reading in and cleaning the data"
   ]
  },
  {
   "cell_type": "code",
   "execution_count": 1,
   "id": "815f07f9",
   "metadata": {},
   "outputs": [],
   "source": [
    "import pandas as pd\n",
    "import zipfile\n",
    "import matplotlib.pyplot as plt\n",
    "from plotnine import *\n",
    "from tqdm import tqdm\n",
    "\n",
    "pd.set_option('display.max_columns', None)"
   ]
  },
  {
   "cell_type": "code",
   "execution_count": 2,
   "id": "e384334b",
   "metadata": {},
   "outputs": [],
   "source": [
    "months = [str(i).zfill(2) for i in range(1, 13)]"
   ]
  },
  {
   "cell_type": "code",
   "execution_count": 3,
   "id": "9d491923",
   "metadata": {},
   "outputs": [],
   "source": [
    "filenames18 = ['2018{}-citibike-tripdata.csv'.format(i) for i in months]\n",
    "filenames19 = ['2019{}-citibike-tripdata.csv'.format(i) for i in months]\n",
    "filenames20 = ['2020{}-citibike-tripdata.csv'.format(i) for i in months]\n",
    "filenames21 = ['2021{}-citibike-tripdata.csv'.format(i) for i in months]"
   ]
  },
  {
   "cell_type": "code",
   "execution_count": 4,
   "id": "d8e63a00",
   "metadata": {},
   "outputs": [],
   "source": [
    "columns_to_read_new = [\n",
    "    'started_at',\n",
    "    'ended_at',\n",
    "    'start_station_name',\n",
    "    'start_lat',\n",
    "    'start_lng',\n",
    "    'end_station_name',\n",
    "    'end_lat',\n",
    "    'end_lng',\n",
    "    'member_casual',\n",
    "]"
   ]
  },
  {
   "cell_type": "code",
   "execution_count": 5,
   "id": "15abec30",
   "metadata": {},
   "outputs": [],
   "source": [
    "columns_to_read_old = [\n",
    "    'starttime',\n",
    "    'stoptime',\n",
    "    'start station name',\n",
    "    'start station latitude',\n",
    "    'start station longitude',\n",
    "    'end station name',\n",
    "    'end station latitude',\n",
    "    'end station longitude',\n",
    "    'usertype',\n",
    "]"
   ]
  },
  {
   "cell_type": "code",
   "execution_count": 6,
   "id": "15cff1ba",
   "metadata": {},
   "outputs": [],
   "source": [
    "#Citibike changed its column headers in February 2021. \n",
    "#For simplicity, manually changing the column headers on the January 2021 file here\n",
    "jan21 = pd.read_csv('202101-citibike-tripdata.csv')\n",
    "jan21.columns = jan21.columns.str.replace(' ', '_').str.replace('latitude', 'lat').str.replace('longitude', 'lng').str.replace('starttime', 'started_at').str.replace('stoptime', 'ended_at').str.replace('usertype', 'member_casual').str.replace('station_lat', 'lat').str.replace('station_lng', 'lng')\n",
    "jan21.member_casual = jan21.member_casual.apply(lambda x:{'Subscriber': 'member','Customer': 'casual'}[x] if x == 'Subscriber' or  x == 'Customer' else x)\n",
    "jan21.to_csv('202101-citibike-tripdata.csv')"
   ]
  },
  {
   "cell_type": "code",
   "execution_count": 7,
   "id": "50cb3cc0",
   "metadata": {},
   "outputs": [],
   "source": [
    "def read_files(filenames, old_headers):\n",
    "    dfs = []\n",
    "    for file in tqdm(filenames):\n",
    "        if old_headers == True:\n",
    "            df = pd.read_csv(file, usecols=columns_to_read_old, parse_dates=['starttime', 'stoptime'])\n",
    "            df.columns = df.columns.str.replace(' ', '_').str.replace('latitude', 'lat').str.replace('longitude', 'lng').str.replace('starttime', 'started_at').str.replace('stoptime', 'ended_at').str.replace('usertype', 'member_casual').str.replace('station_lat', 'lat').str.replace('station_lng', 'lng')\n",
    "            df.member_casual = df.member_casual.apply(lambda x:{'Subscriber': 'member','Customer': 'casual'}[x] if x == 'Subscriber' or  x == 'Customer' else x)\n",
    "        else:\n",
    "            df = pd.read_csv(file, usecols=columns_to_read_new, parse_dates=['started_at', 'ended_at'])\n",
    "            df = df[df.ended_at > df.started_at]\n",
    "        df = df[df.ended_at > df.started_at] #Removing data anomolies where ride ends before it begins\n",
    "        dfs.append(df)\n",
    "    return pd.concat(dfs)"
   ]
  },
  {
   "cell_type": "code",
   "execution_count": 8,
   "id": "c4e89fc7",
   "metadata": {},
   "outputs": [
    {
     "name": "stderr",
     "output_type": "stream",
     "text": [
      "100%|███████████████████████████████████████████| 12/12 [01:15<00:00,  6.32s/it]\n"
     ]
    }
   ],
   "source": [
    "df21 = read_files(filenames21, False)"
   ]
  },
  {
   "cell_type": "code",
   "execution_count": 9,
   "id": "f21c4c27",
   "metadata": {},
   "outputs": [
    {
     "name": "stderr",
     "output_type": "stream",
     "text": [
      "100%|███████████████████████████████████████████| 12/12 [00:55<00:00,  4.60s/it]\n"
     ]
    }
   ],
   "source": [
    "df20 = read_files(filenames20, True)"
   ]
  },
  {
   "cell_type": "code",
   "execution_count": 10,
   "id": "64bef4f3",
   "metadata": {},
   "outputs": [
    {
     "name": "stderr",
     "output_type": "stream",
     "text": [
      "100%|███████████████████████████████████████████| 12/12 [00:59<00:00,  4.99s/it]\n"
     ]
    }
   ],
   "source": [
    "df19 = read_files(filenames19, True)"
   ]
  },
  {
   "cell_type": "code",
   "execution_count": 11,
   "id": "f3bdd3cc",
   "metadata": {},
   "outputs": [
    {
     "name": "stderr",
     "output_type": "stream",
     "text": [
      "100%|███████████████████████████████████████████| 12/12 [00:53<00:00,  4.49s/it]\n"
     ]
    }
   ],
   "source": [
    "df18 = read_files(filenames18, True)"
   ]
  },
  {
   "cell_type": "markdown",
   "id": "e5263b10",
   "metadata": {},
   "source": [
    "## How much has Citi Bike ridership grown?"
   ]
  },
  {
   "cell_type": "code",
   "execution_count": 19,
   "id": "cedea068",
   "metadata": {},
   "outputs": [
    {
     "data": {
      "text/plain": [
       "57.53976487461292"
      ]
     },
     "execution_count": 19,
     "metadata": {},
     "output_type": "execute_result"
    }
   ],
   "source": [
    "#Percent growth in total rides over the last four years\n",
    "(df21.shape[0] - df18.shape[0]) / df18.shape[0] * 100"
   ]
  },
  {
   "cell_type": "code",
   "execution_count": 20,
   "id": "9506ae6b",
   "metadata": {},
   "outputs": [
    {
     "name": "stdout",
     "output_type": "stream",
     "text": [
      "821\n",
      "1568\n"
     ]
    }
   ],
   "source": [
    "#Increase in number of stations\n",
    "print(df18.start_station_name.nunique())\n",
    "print(df21.start_station_name.nunique())"
   ]
  },
  {
   "cell_type": "code",
   "execution_count": 21,
   "id": "7d5ac965",
   "metadata": {},
   "outputs": [
    {
     "name": "stdout",
     "output_type": "stream",
     "text": [
      "853\n",
      "1642\n"
     ]
    }
   ],
   "source": [
    "print(df18.end_station_name.nunique())\n",
    "print(df21.end_station_name.nunique())"
   ]
  },
  {
   "cell_type": "markdown",
   "id": "bedba3db",
   "metadata": {},
   "source": [
    "## Are people still using Citi Bike to commute during rush hour? Has rush hour for Citi Bike shifted?"
   ]
  },
  {
   "cell_type": "markdown",
   "id": "6128659e",
   "metadata": {},
   "source": [
    "The morning rush has shrunk during the pandemic, but the evening rush is still alive. "
   ]
  },
  {
   "cell_type": "code",
   "execution_count": 23,
   "id": "5880d6b4",
   "metadata": {},
   "outputs": [],
   "source": [
    "hours21 = df21.started_at.dt.hour.value_counts().sort_values().reset_index(name='num_rides').sort_values('index')\n",
    "hours20 = df20.started_at.dt.hour.value_counts().sort_values().reset_index(name='num_rides').sort_values('index')\n",
    "hours19 = df19.started_at.dt.hour.value_counts().sort_values().reset_index(name='num_rides').sort_values('index')\n",
    "hours18 = df18.started_at.dt.hour.value_counts().sort_values().reset_index(name='num_rides').sort_values('index')"
   ]
  },
  {
   "cell_type": "code",
   "execution_count": 24,
   "id": "46bf790d",
   "metadata": {},
   "outputs": [],
   "source": [
    "hours21['pct_rides'] = hours21.num_rides / hours21.num_rides.sum() * 100\n",
    "hours20['pct_rides'] = hours20.num_rides / hours20.num_rides.sum() * 100\n",
    "hours19['pct_rides'] = hours19.num_rides / hours19.num_rides.sum() * 100\n",
    "hours18['pct_rides'] = hours18.num_rides / hours18.num_rides.sum() * 100"
   ]
  },
  {
   "cell_type": "code",
   "execution_count": 25,
   "id": "0a8a6d73",
   "metadata": {},
   "outputs": [],
   "source": [
    "hours21['year'] = 2021\n",
    "hours20['year'] = 2020\n",
    "hours19['year'] = 2019\n",
    "hours18['year'] = 2018\n",
    "hours_all = pd.concat([hours21, hours20, hours19, hours18])"
   ]
  },
  {
   "cell_type": "code",
   "execution_count": 26,
   "id": "3df6c035",
   "metadata": {},
   "outputs": [
    {
     "data": {
      "image/png": "[encoded data removed]",
      "text/plain": [
       "<Figure size 640x480 with 1 Axes>"
      ]
     },
     "metadata": {
      "needs_background": "light"
     },
     "output_type": "display_data"
    },
    {
     "data": {
      "text/plain": [
       "<ggplot: (326530274)>"
      ]
     },
     "metadata": {},
     "output_type": "display_data"
    }
   ],
   "source": [
    "display(\n",
    "    ggplot(hours_all)\n",
    "    + geom_line(aes(x='index', y='num_rides', group='year', color='factor(year)'))\n",
    "    + labs(title='Citi Bike Rides by Hour, Total Rides', \n",
    "           x='Hour', \n",
    "           y='Total number of rides',\n",
    "           color='Year')\n",
    "    + theme_minimal()\n",
    ")"
   ]
  },
  {
   "cell_type": "code",
   "execution_count": 35,
   "id": "e340ebd3",
   "metadata": {},
   "outputs": [
    {
     "data": {
      "image/png": "[encoded data removed]",
      "text/plain": [
       "<Figure size 640x480 with 1 Axes>"
      ]
     },
     "metadata": {
      "needs_background": "light"
     },
     "output_type": "display_data"
    },
    {
     "data": {
      "text/plain": [
       "<ggplot: (345713677)>"
      ]
     },
     "metadata": {},
     "output_type": "display_data"
    }
   ],
   "source": [
    "display(\n",
    "    ggplot(hours_all)\n",
    "    + geom_line(aes(x='index', y='pct_rides', group='year', color='factor(year)'))\n",
    "    + labs(title='Citi Bike rides shifted later during the pandemic', \n",
    "           x='Hour', \n",
    "           y='Percent of total rides',\n",
    "           color='Year')\n",
    "    + theme_minimal()\n",
    ")"
   ]
  },
  {
   "cell_type": "code",
   "execution_count": 460,
   "id": "8b8b5331",
   "metadata": {},
   "outputs": [
    {
     "data": {
      "text/plain": [
       "year  index\n",
       "2018  0        0.874892\n",
       "      1        0.489237\n",
       "      2        0.285754\n",
       "      3        0.177384\n",
       "      4        0.186701\n",
       "      5        0.645241\n",
       "      6        2.181591\n",
       "      7        4.603091\n",
       "      8        8.050186\n",
       "      9        6.336081\n",
       "      10       4.479427\n",
       "      11       4.710030\n",
       "      12       5.451023\n",
       "      13       5.703155\n",
       "      14       5.810755\n",
       "      15       6.114658\n",
       "      16       7.139126\n",
       "      17       9.728015\n",
       "      18       9.265914\n",
       "      19       6.446627\n",
       "      20       4.389076\n",
       "      21       3.098470\n",
       "      22       2.306583\n",
       "      23       1.526982\n",
       "2019  0        0.901794\n",
       "      1        0.512040\n",
       "      2        0.312908\n",
       "      3        0.202217\n",
       "      4        0.218459\n",
       "      5        0.680659\n",
       "      6        2.155768\n",
       "      7        4.541615\n",
       "      8        7.915473\n",
       "      9        6.365304\n",
       "      10       4.569457\n",
       "      11       4.760113\n",
       "      12       5.462074\n",
       "      13       5.663703\n",
       "      14       5.862046\n",
       "      15       6.180550\n",
       "      16       7.096241\n",
       "      17       9.743633\n",
       "      18       9.136462\n",
       "      19       6.396435\n",
       "      20       4.376106\n",
       "      21       3.075926\n",
       "      22       2.323020\n",
       "      23       1.547994\n",
       "2020  0        0.994216\n",
       "      1        0.579556\n",
       "      2        0.338092\n",
       "      3        0.207429\n",
       "      4        0.198668\n",
       "      5        0.546808\n",
       "      6        1.773022\n",
       "      7        3.390481\n",
       "      8        5.045244\n",
       "      9        4.608799\n",
       "      10       4.443311\n",
       "      11       5.123522\n",
       "      12       6.074467\n",
       "      13       6.637083\n",
       "      14       7.100987\n",
       "      15       7.647015\n",
       "      16       8.291301\n",
       "      17       9.573137\n",
       "      18       9.104345\n",
       "      19       6.900481\n",
       "      20       4.561687\n",
       "      21       2.981440\n",
       "      22       2.253353\n",
       "      23       1.625558\n",
       "2021  0        1.444056\n",
       "      1        0.896374\n",
       "      2        0.592293\n",
       "      3        0.373900\n",
       "      4        0.308309\n",
       "      5        0.631681\n",
       "      6        1.874196\n",
       "      7        3.599638\n",
       "      8        5.314153\n",
       "      9        4.672398\n",
       "      10       4.521184\n",
       "      11       5.130894\n",
       "      12       5.903809\n",
       "      13       6.303134\n",
       "      14       6.786317\n",
       "      15       7.179512\n",
       "      16       7.753031\n",
       "      17       8.937219\n",
       "      18       8.650512\n",
       "      19       6.616822\n",
       "      20       4.506708\n",
       "      21       3.238633\n",
       "      22       2.674034\n",
       "      23       2.091193\n",
       "Name: pct_rides, dtype: float64"
      ]
     },
     "execution_count": 460,
     "metadata": {},
     "output_type": "execute_result"
    }
   ],
   "source": [
    "hours_all.groupby(['year', 'index']).pct_rides.max()"
   ]
  },
  {
   "cell_type": "markdown",
   "id": "4ef72f77",
   "metadata": {},
   "source": [
    "## How does Citi Bike ridership compare with MTA ridership?\n",
    "\n",
    "MTA data sourced from [its website](https://new.mta.info/coronavirus/ridership)."
   ]
  },
  {
   "cell_type": "markdown",
   "id": "c5b44a49",
   "metadata": {},
   "source": [
    "#### Plotting MTA Subway ridership over pandemic months"
   ]
  },
  {
   "cell_type": "code",
   "execution_count": 36,
   "id": "1aef7231",
   "metadata": {},
   "outputs": [],
   "source": [
    "mta = pd.read_csv('mta-ridership.csv')"
   ]
  },
  {
   "cell_type": "code",
   "execution_count": 37,
   "id": "e765060c",
   "metadata": {},
   "outputs": [],
   "source": [
    "mta.Date = pd.to_datetime(mta.Date)"
   ]
  },
  {
   "cell_type": "code",
   "execution_count": 38,
   "id": "cd96b8ce",
   "metadata": {},
   "outputs": [],
   "source": [
    "mta_months = mta.resample('M', on='Date')['Subways: Total Estimated Ridership'].sum().reset_index(name='ridership')"
   ]
  },
  {
   "cell_type": "code",
   "execution_count": 39,
   "id": "88d80471",
   "metadata": {},
   "outputs": [],
   "source": [
    "mta_months.rename(columns={'Date': 'month'}, inplace=True)"
   ]
  },
  {
   "cell_type": "code",
   "execution_count": 40,
   "id": "f8d312e5",
   "metadata": {},
   "outputs": [
    {
     "data": {
      "image/png": "[encoded data removed]",
      "text/plain": [
       "<Figure size 640x480 with 1 Axes>"
      ]
     },
     "metadata": {
      "needs_background": "light"
     },
     "output_type": "display_data"
    },
    {
     "data": {
      "text/plain": [
       "<ggplot: (339196067)>"
      ]
     },
     "metadata": {},
     "output_type": "display_data"
    }
   ],
   "source": [
    "display(\n",
    "    ggplot(mta_months, aes('month', 'ridership'))\n",
    "    + geom_line()\n",
    "    + labs(title='MTA pandemic ridership', x='Month', y='Subway ridership')\n",
    "    + theme_minimal()\n",
    "    + theme(axis_text_x  = element_text(angle = 45, hjust = 1))\n",
    ")#need to rotate labels"
   ]
  },
  {
   "cell_type": "markdown",
   "id": "feb2aa67",
   "metadata": {},
   "source": [
    "#### Plotting Citi Bike ridership over pandemic months"
   ]
  },
  {
   "cell_type": "code",
   "execution_count": 41,
   "id": "451ae25d",
   "metadata": {},
   "outputs": [],
   "source": [
    "pandemic = pd.concat([df20, df21])\n",
    "pandemic_months = pandemic.resample('M', on='started_at').size().reset_index(name='num_rides')"
   ]
  },
  {
   "cell_type": "code",
   "execution_count": 42,
   "id": "339eadfd",
   "metadata": {},
   "outputs": [],
   "source": [
    "pandemic_months.rename(columns={'started_at': 'month'}, inplace=True)"
   ]
  },
  {
   "cell_type": "code",
   "execution_count": 43,
   "id": "c954bbf1",
   "metadata": {},
   "outputs": [
    {
     "data": {
      "image/png": "[encoded data removed]",
      "text/plain": [
       "<Figure size 640x480 with 1 Axes>"
      ]
     },
     "metadata": {
      "needs_background": "light"
     },
     "output_type": "display_data"
    },
    {
     "data": {
      "text/plain": [
       "<ggplot: (339231066)>"
      ]
     },
     "metadata": {},
     "output_type": "display_data"
    }
   ],
   "source": [
    "display(\n",
    "    ggplot(aes('month', 'num_rides'), data=pandemic_months) \n",
    "    + geom_line()\n",
    "    + labs(title='Citi Bike pandemic ridership', y='Total rides', x='Month')\n",
    "    + theme_minimal()\n",
    "    + theme(axis_text_x  = element_text(angle = 45, hjust = 1))\n",
    ")"
   ]
  },
  {
   "cell_type": "markdown",
   "id": "1bcab075",
   "metadata": {},
   "source": [
    "#### Mapping percent change to display both on the same chart"
   ]
  },
  {
   "cell_type": "code",
   "execution_count": 44,
   "id": "4a19495b",
   "metadata": {},
   "outputs": [],
   "source": [
    "mta_months['pct_change'] = mta_months.select_dtypes(include=['number']).pct_change() * 100"
   ]
  },
  {
   "cell_type": "code",
   "execution_count": 45,
   "id": "2713fa86",
   "metadata": {},
   "outputs": [],
   "source": [
    "pandemic_months['pct_change'] = pandemic_months.select_dtypes(include=['number']).pct_change() * 100"
   ]
  },
  {
   "cell_type": "code",
   "execution_count": 46,
   "id": "14bc3c46",
   "metadata": {},
   "outputs": [],
   "source": [
    "#Standardizing timeframe based on the limits of the datasets (April 2020 to December 2021)\n",
    "mta_months = mta_months[1:-1]"
   ]
  },
  {
   "cell_type": "code",
   "execution_count": 47,
   "id": "8eeb5ccd",
   "metadata": {},
   "outputs": [],
   "source": [
    "pandemic_months = pandemic_months[3:]"
   ]
  },
  {
   "cell_type": "code",
   "execution_count": 48,
   "id": "de5649b6",
   "metadata": {},
   "outputs": [],
   "source": [
    "pandemic_months['transit_type'] = 'Citi Bike'\n",
    "mta_months['transit_type'] = 'Subway ridership'"
   ]
  },
  {
   "cell_type": "code",
   "execution_count": 49,
   "id": "d717436b",
   "metadata": {},
   "outputs": [],
   "source": [
    "mta_bike_combined = pd.concat([mta_months, pandemic_months])"
   ]
  },
  {
   "cell_type": "code",
   "execution_count": 63,
   "id": "c70c37f6",
   "metadata": {
    "scrolled": true
   },
   "outputs": [
    {
     "data": {
      "image/png": "[encoded data removed]",
      "text/plain": [
       "<Figure size 640x480 with 1 Axes>"
      ]
     },
     "metadata": {
      "needs_background": "light"
     },
     "output_type": "display_data"
    },
    {
     "data": {
      "text/plain": [
       "<ggplot: (342857458)>"
      ]
     },
     "metadata": {},
     "output_type": "display_data"
    }
   ],
   "source": [
    "def custom_format(breaks):\n",
    "    fmt = '%b %Y'\n",
    "    res = []\n",
    "    for x in breaks:\n",
    "        res.append(x.strftime(fmt))\n",
    "    return res\n",
    "\n",
    "display(\n",
    "    ggplot(mta_bike_combined) \n",
    "    + geom_line(aes(x='month', y='pct_change', group= 'transit_type', color='transit_type'))\n",
    "    + theme_minimal()\n",
    "    + theme(axis_text_x  = element_text(angle = 45, hjust = 1))\n",
    "    + labs(title='Citi Bike ridership spiked in spring pandemic months',\n",
    "           x='Month', y='Percent change over month', color='')\n",
    "    + scale_x_datetime(breaks='1 month', labels=custom_format)\n",
    ")"
   ]
  },
  {
   "cell_type": "markdown",
   "id": "cf348f11",
   "metadata": {},
   "source": [
    "#### Mapping percent below pre-pandemic baseline"
   ]
  },
  {
   "cell_type": "code",
   "execution_count": 51,
   "id": "600e04b0",
   "metadata": {},
   "outputs": [],
   "source": [
    "mta['Subways: % of Comparable Pre-Pandemic Day'] = mta['Subways: % of Comparable Pre-Pandemic Day'].str[:-1].astype(float)"
   ]
  },
  {
   "cell_type": "code",
   "execution_count": 52,
   "id": "a2dab28f",
   "metadata": {},
   "outputs": [],
   "source": [
    "mta_months_baseline = mta.resample('M', on='Date')['Subways: % of Comparable Pre-Pandemic Day'].median().reset_index(name='pct_from_baseline')"
   ]
  },
  {
   "cell_type": "code",
   "execution_count": 53,
   "id": "6d674650",
   "metadata": {},
   "outputs": [],
   "source": [
    "#Calculate pandemic baseline percentages\n",
    "baselines = df19.resample('M', on='started_at').size().reset_index(name='ride_totals')"
   ]
  },
  {
   "cell_type": "code",
   "execution_count": 54,
   "id": "c8a428ce",
   "metadata": {},
   "outputs": [],
   "source": [
    "baselines = baselines.rename(columns={'started_at':'month'})"
   ]
  },
  {
   "cell_type": "code",
   "execution_count": 55,
   "id": "18d23701",
   "metadata": {},
   "outputs": [],
   "source": [
    "baselines['month_general'] = baselines.month.dt.month\n",
    "pandemic_months['month_general'] = pandemic_months.month.dt.month"
   ]
  },
  {
   "cell_type": "code",
   "execution_count": 56,
   "id": "e71cff72",
   "metadata": {},
   "outputs": [],
   "source": [
    "calculator = pandemic_months.merge(baselines, on='month_general')"
   ]
  },
  {
   "cell_type": "code",
   "execution_count": 57,
   "id": "af137f5f",
   "metadata": {},
   "outputs": [],
   "source": [
    "calculator['pct_from_baseline'] = calculator.num_rides / calculator.ride_totals * 100"
   ]
  },
  {
   "cell_type": "code",
   "execution_count": 58,
   "id": "aa83ded8",
   "metadata": {},
   "outputs": [],
   "source": [
    "mta_months_baseline = mta_months_baseline.rename(columns={'Date':'month'})"
   ]
  },
  {
   "cell_type": "code",
   "execution_count": 59,
   "id": "d9111628",
   "metadata": {},
   "outputs": [],
   "source": [
    "mta_months_baseline['transit_type'] = 'Subway'"
   ]
  },
  {
   "cell_type": "code",
   "execution_count": 60,
   "id": "c0d01c18",
   "metadata": {},
   "outputs": [
    {
     "data": {
      "text/html": [
       "<div>\n",
       "<style scoped>\n",
       "    .dataframe tbody tr th:only-of-type {\n",
       "        vertical-align: middle;\n",
       "    }\n",
       "\n",
       "    .dataframe tbody tr th {\n",
       "        vertical-align: top;\n",
       "    }\n",
       "\n",
       "    .dataframe thead th {\n",
       "        text-align: right;\n",
       "    }\n",
       "</style>\n",
       "<table border=\"1\" class=\"dataframe\">\n",
       "  <thead>\n",
       "    <tr style=\"text-align: right;\">\n",
       "      <th></th>\n",
       "      <th>month</th>\n",
       "      <th>pct_from_baseline</th>\n",
       "      <th>transit_type</th>\n",
       "    </tr>\n",
       "  </thead>\n",
       "  <tbody>\n",
       "    <tr>\n",
       "      <th>0</th>\n",
       "      <td>2020-03-31</td>\n",
       "      <td>40.50</td>\n",
       "      <td>Subway</td>\n",
       "    </tr>\n",
       "    <tr>\n",
       "      <th>1</th>\n",
       "      <td>2020-04-30</td>\n",
       "      <td>8.25</td>\n",
       "      <td>Subway</td>\n",
       "    </tr>\n",
       "    <tr>\n",
       "      <th>2</th>\n",
       "      <td>2020-05-31</td>\n",
       "      <td>10.60</td>\n",
       "      <td>Subway</td>\n",
       "    </tr>\n",
       "    <tr>\n",
       "      <th>3</th>\n",
       "      <td>2020-06-30</td>\n",
       "      <td>16.65</td>\n",
       "      <td>Subway</td>\n",
       "    </tr>\n",
       "    <tr>\n",
       "      <th>4</th>\n",
       "      <td>2020-07-31</td>\n",
       "      <td>23.00</td>\n",
       "      <td>Subway</td>\n",
       "    </tr>\n",
       "    <tr>\n",
       "      <th>5</th>\n",
       "      <td>2020-08-31</td>\n",
       "      <td>26.60</td>\n",
       "      <td>Subway</td>\n",
       "    </tr>\n",
       "    <tr>\n",
       "      <th>6</th>\n",
       "      <td>2020-09-30</td>\n",
       "      <td>28.75</td>\n",
       "      <td>Subway</td>\n",
       "    </tr>\n",
       "    <tr>\n",
       "      <th>7</th>\n",
       "      <td>2020-10-31</td>\n",
       "      <td>30.50</td>\n",
       "      <td>Subway</td>\n",
       "    </tr>\n",
       "    <tr>\n",
       "      <th>8</th>\n",
       "      <td>2020-11-30</td>\n",
       "      <td>31.05</td>\n",
       "      <td>Subway</td>\n",
       "    </tr>\n",
       "    <tr>\n",
       "      <th>9</th>\n",
       "      <td>2020-12-31</td>\n",
       "      <td>30.20</td>\n",
       "      <td>Subway</td>\n",
       "    </tr>\n",
       "    <tr>\n",
       "      <th>10</th>\n",
       "      <td>2021-01-31</td>\n",
       "      <td>30.30</td>\n",
       "      <td>Subway</td>\n",
       "    </tr>\n",
       "    <tr>\n",
       "      <th>11</th>\n",
       "      <td>2021-02-28</td>\n",
       "      <td>31.60</td>\n",
       "      <td>Subway</td>\n",
       "    </tr>\n",
       "    <tr>\n",
       "      <th>12</th>\n",
       "      <td>2021-03-31</td>\n",
       "      <td>32.80</td>\n",
       "      <td>Subway</td>\n",
       "    </tr>\n",
       "    <tr>\n",
       "      <th>13</th>\n",
       "      <td>2021-04-30</td>\n",
       "      <td>36.40</td>\n",
       "      <td>Subway</td>\n",
       "    </tr>\n",
       "    <tr>\n",
       "      <th>14</th>\n",
       "      <td>2021-05-31</td>\n",
       "      <td>40.00</td>\n",
       "      <td>Subway</td>\n",
       "    </tr>\n",
       "    <tr>\n",
       "      <th>15</th>\n",
       "      <td>2021-06-30</td>\n",
       "      <td>44.00</td>\n",
       "      <td>Subway</td>\n",
       "    </tr>\n",
       "    <tr>\n",
       "      <th>16</th>\n",
       "      <td>2021-07-31</td>\n",
       "      <td>47.40</td>\n",
       "      <td>Subway</td>\n",
       "    </tr>\n",
       "    <tr>\n",
       "      <th>17</th>\n",
       "      <td>2021-08-31</td>\n",
       "      <td>48.20</td>\n",
       "      <td>Subway</td>\n",
       "    </tr>\n",
       "    <tr>\n",
       "      <th>18</th>\n",
       "      <td>2021-09-30</td>\n",
       "      <td>50.30</td>\n",
       "      <td>Subway</td>\n",
       "    </tr>\n",
       "    <tr>\n",
       "      <th>19</th>\n",
       "      <td>2021-10-31</td>\n",
       "      <td>54.10</td>\n",
       "      <td>Subway</td>\n",
       "    </tr>\n",
       "    <tr>\n",
       "      <th>20</th>\n",
       "      <td>2021-11-30</td>\n",
       "      <td>57.00</td>\n",
       "      <td>Subway</td>\n",
       "    </tr>\n",
       "    <tr>\n",
       "      <th>21</th>\n",
       "      <td>2021-12-31</td>\n",
       "      <td>55.90</td>\n",
       "      <td>Subway</td>\n",
       "    </tr>\n",
       "    <tr>\n",
       "      <th>22</th>\n",
       "      <td>2022-01-31</td>\n",
       "      <td>48.10</td>\n",
       "      <td>Subway</td>\n",
       "    </tr>\n",
       "  </tbody>\n",
       "</table>\n",
       "</div>"
      ],
      "text/plain": [
       "        month  pct_from_baseline transit_type\n",
       "0  2020-03-31              40.50       Subway\n",
       "1  2020-04-30               8.25       Subway\n",
       "2  2020-05-31              10.60       Subway\n",
       "3  2020-06-30              16.65       Subway\n",
       "4  2020-07-31              23.00       Subway\n",
       "5  2020-08-31              26.60       Subway\n",
       "6  2020-09-30              28.75       Subway\n",
       "7  2020-10-31              30.50       Subway\n",
       "8  2020-11-30              31.05       Subway\n",
       "9  2020-12-31              30.20       Subway\n",
       "10 2021-01-31              30.30       Subway\n",
       "11 2021-02-28              31.60       Subway\n",
       "12 2021-03-31              32.80       Subway\n",
       "13 2021-04-30              36.40       Subway\n",
       "14 2021-05-31              40.00       Subway\n",
       "15 2021-06-30              44.00       Subway\n",
       "16 2021-07-31              47.40       Subway\n",
       "17 2021-08-31              48.20       Subway\n",
       "18 2021-09-30              50.30       Subway\n",
       "19 2021-10-31              54.10       Subway\n",
       "20 2021-11-30              57.00       Subway\n",
       "21 2021-12-31              55.90       Subway\n",
       "22 2022-01-31              48.10       Subway"
      ]
     },
     "execution_count": 60,
     "metadata": {},
     "output_type": "execute_result"
    }
   ],
   "source": [
    "mta_months_baseline"
   ]
  },
  {
   "cell_type": "code",
   "execution_count": 533,
   "id": "81aa7c81",
   "metadata": {},
   "outputs": [],
   "source": [
    "calculator = calculator.rename(columns={'month_x':'month'})"
   ]
  },
  {
   "cell_type": "code",
   "execution_count": 534,
   "id": "0f969abd",
   "metadata": {},
   "outputs": [],
   "source": [
    "baseline_chart = pd.concat([mta_months_baseline, calculator])[['month', 'pct_from_baseline','transit_type']]"
   ]
  },
  {
   "cell_type": "code",
   "execution_count": 537,
   "id": "075ff607",
   "metadata": {},
   "outputs": [
    {
     "data": {
      "image/png": "[encoded data removed]",
      "text/plain": [
       "<Figure size 640x480 with 1 Axes>"
      ]
     },
     "metadata": {
      "needs_background": "light"
     },
     "output_type": "display_data"
    },
    {
     "data": {
      "text/plain": [
       "<ggplot: (344682349)>"
      ]
     },
     "metadata": {},
     "output_type": "display_data"
    }
   ],
   "source": [
    "display(\n",
    "    ggplot(baseline_chart) \n",
    "    + geom_line(aes(x='month', y='pct_from_baseline', group= 'transit_type', color='transit_type'))\n",
    "    + theme_minimal()\n",
    "    + theme(axis_text_x  = element_text(angle = 60, hjust = 1))\n",
    "    + labs(title='Citi Bike ridership eclipses pre-pandemic levels as subway ridership crawls back',\n",
    "           x='Month', y='Percent of pre-pandemic ridership', color='')\n",
    "    + scale_x_datetime(breaks='1 month', labels=custom_format)\n",
    ")"
   ]
  },
  {
   "cell_type": "markdown",
   "id": "3710e03e",
   "metadata": {},
   "source": [
    "## What are the most common paths taken by Citi Bike riders? How has that changed?"
   ]
  },
  {
   "cell_type": "code",
   "execution_count": 146,
   "id": "947cddd2",
   "metadata": {},
   "outputs": [
    {
     "data": {
      "text/html": [
       "<div>\n",
       "<style scoped>\n",
       "    .dataframe tbody tr th:only-of-type {\n",
       "        vertical-align: middle;\n",
       "    }\n",
       "\n",
       "    .dataframe tbody tr th {\n",
       "        vertical-align: top;\n",
       "    }\n",
       "\n",
       "    .dataframe thead th {\n",
       "        text-align: right;\n",
       "    }\n",
       "</style>\n",
       "<table border=\"1\" class=\"dataframe\">\n",
       "  <thead>\n",
       "    <tr style=\"text-align: right;\">\n",
       "      <th></th>\n",
       "      <th>start_station_name</th>\n",
       "      <th>end_station_name</th>\n",
       "      <th>num_rides</th>\n",
       "    </tr>\n",
       "  </thead>\n",
       "  <tbody>\n",
       "    <tr>\n",
       "      <th>244512</th>\n",
       "      <td>Central Park S &amp; 6 Ave</td>\n",
       "      <td>Central Park S &amp; 6 Ave</td>\n",
       "      <td>13178</td>\n",
       "    </tr>\n",
       "    <tr>\n",
       "      <th>119374</th>\n",
       "      <td>7 Ave &amp; Central Park South</td>\n",
       "      <td>7 Ave &amp; Central Park South</td>\n",
       "      <td>10992</td>\n",
       "    </tr>\n",
       "    <tr>\n",
       "      <th>99190</th>\n",
       "      <td>5 Ave &amp; E 72 St</td>\n",
       "      <td>5 Ave &amp; E 72 St</td>\n",
       "      <td>8319</td>\n",
       "    </tr>\n",
       "    <tr>\n",
       "      <th>665858</th>\n",
       "      <td>Roosevelt Island Tramway</td>\n",
       "      <td>Roosevelt Island Tramway</td>\n",
       "      <td>7988</td>\n",
       "    </tr>\n",
       "    <tr>\n",
       "      <th>465979</th>\n",
       "      <td>Grand Army Plaza &amp; Central Park S</td>\n",
       "      <td>Grand Army Plaza &amp; Central Park S</td>\n",
       "      <td>7227</td>\n",
       "    </tr>\n",
       "    <tr>\n",
       "      <th>20237</th>\n",
       "      <td>12 Ave &amp; W 40 St</td>\n",
       "      <td>12 Ave &amp; W 40 St</td>\n",
       "      <td>7041</td>\n",
       "    </tr>\n",
       "    <tr>\n",
       "      <th>833512</th>\n",
       "      <td>West Drive &amp; Prospect Park West</td>\n",
       "      <td>West Drive &amp; Prospect Park West</td>\n",
       "      <td>6572</td>\n",
       "    </tr>\n",
       "    <tr>\n",
       "      <th>247724</th>\n",
       "      <td>Central Park West &amp; W 68 St</td>\n",
       "      <td>Central Park West &amp; W 68 St</td>\n",
       "      <td>6442</td>\n",
       "    </tr>\n",
       "    <tr>\n",
       "      <th>762933</th>\n",
       "      <td>W 21 St &amp; 6 Ave</td>\n",
       "      <td>9 Ave &amp; W 22 St</td>\n",
       "      <td>6300</td>\n",
       "    </tr>\n",
       "    <tr>\n",
       "      <th>243653</th>\n",
       "      <td>Central Park North &amp; Adam Clayton Powell Blvd</td>\n",
       "      <td>Central Park North &amp; Adam Clayton Powell Blvd</td>\n",
       "      <td>6285</td>\n",
       "    </tr>\n",
       "  </tbody>\n",
       "</table>\n",
       "</div>"
      ],
      "text/plain": [
       "                                   start_station_name  \\\n",
       "244512                         Central Park S & 6 Ave   \n",
       "119374                     7 Ave & Central Park South   \n",
       "99190                                 5 Ave & E 72 St   \n",
       "665858                       Roosevelt Island Tramway   \n",
       "465979              Grand Army Plaza & Central Park S   \n",
       "20237                                12 Ave & W 40 St   \n",
       "833512                West Drive & Prospect Park West   \n",
       "247724                    Central Park West & W 68 St   \n",
       "762933                                W 21 St & 6 Ave   \n",
       "243653  Central Park North & Adam Clayton Powell Blvd   \n",
       "\n",
       "                                     end_station_name  num_rides  \n",
       "244512                         Central Park S & 6 Ave      13178  \n",
       "119374                     7 Ave & Central Park South      10992  \n",
       "99190                                 5 Ave & E 72 St       8319  \n",
       "665858                       Roosevelt Island Tramway       7988  \n",
       "465979              Grand Army Plaza & Central Park S       7227  \n",
       "20237                                12 Ave & W 40 St       7041  \n",
       "833512                West Drive & Prospect Park West       6572  \n",
       "247724                    Central Park West & W 68 St       6442  \n",
       "762933                                9 Ave & W 22 St       6300  \n",
       "243653  Central Park North & Adam Clayton Powell Blvd       6285  "
      ]
     },
     "execution_count": 146,
     "metadata": {},
     "output_type": "execute_result"
    }
   ],
   "source": [
    "top10_21 = df21.groupby(['start_station_name', 'end_station_name']).size().reset_index(name='num_rides').sort_values(by='num_rides', ascending=False).head(10)\n",
    "top10_21"
   ]
  },
  {
   "cell_type": "code",
   "execution_count": 104,
   "id": "fcb6c253",
   "metadata": {},
   "outputs": [
    {
     "data": {
      "text/html": [
       "<div>\n",
       "<style scoped>\n",
       "    .dataframe tbody tr th:only-of-type {\n",
       "        vertical-align: middle;\n",
       "    }\n",
       "\n",
       "    .dataframe tbody tr th {\n",
       "        vertical-align: top;\n",
       "    }\n",
       "\n",
       "    .dataframe thead th {\n",
       "        text-align: right;\n",
       "    }\n",
       "</style>\n",
       "<table border=\"1\" class=\"dataframe\">\n",
       "  <thead>\n",
       "    <tr style=\"text-align: right;\">\n",
       "      <th></th>\n",
       "      <th>start_station_name</th>\n",
       "      <th>end_station_name</th>\n",
       "      <th>num_rides</th>\n",
       "    </tr>\n",
       "  </thead>\n",
       "  <tbody>\n",
       "    <tr>\n",
       "      <th>588666</th>\n",
       "      <td>West Drive &amp; Prospect Park West</td>\n",
       "      <td>West Drive &amp; Prospect Park West</td>\n",
       "      <td>12138</td>\n",
       "    </tr>\n",
       "    <tr>\n",
       "      <th>155997</th>\n",
       "      <td>Central Park S &amp; 6 Ave</td>\n",
       "      <td>Central Park S &amp; 6 Ave</td>\n",
       "      <td>6537</td>\n",
       "    </tr>\n",
       "    <tr>\n",
       "      <th>15315</th>\n",
       "      <td>12 Ave &amp; W 40 St</td>\n",
       "      <td>12 Ave &amp; W 40 St</td>\n",
       "      <td>6316</td>\n",
       "    </tr>\n",
       "    <tr>\n",
       "      <th>14693</th>\n",
       "      <td>12 Ave &amp; W 125 St</td>\n",
       "      <td>12 Ave &amp; W 125 St</td>\n",
       "      <td>6018</td>\n",
       "    </tr>\n",
       "    <tr>\n",
       "      <th>131005</th>\n",
       "      <td>Broadway &amp; W 60 St</td>\n",
       "      <td>Broadway &amp; W 60 St</td>\n",
       "      <td>5640</td>\n",
       "    </tr>\n",
       "    <tr>\n",
       "      <th>133336</th>\n",
       "      <td>Brooklyn Bridge Park - Pier 2</td>\n",
       "      <td>Brooklyn Bridge Park - Pier 2</td>\n",
       "      <td>5491</td>\n",
       "    </tr>\n",
       "    <tr>\n",
       "      <th>59627</th>\n",
       "      <td>5 Ave &amp; E 73 St</td>\n",
       "      <td>5 Ave &amp; E 73 St</td>\n",
       "      <td>5450</td>\n",
       "    </tr>\n",
       "    <tr>\n",
       "      <th>16056</th>\n",
       "      <td>12 Ave &amp; W 40 St</td>\n",
       "      <td>West St &amp; Chambers St</td>\n",
       "      <td>5224</td>\n",
       "    </tr>\n",
       "    <tr>\n",
       "      <th>61043</th>\n",
       "      <td>5 Ave &amp; E 88 St</td>\n",
       "      <td>5 Ave &amp; E 88 St</td>\n",
       "      <td>5188</td>\n",
       "    </tr>\n",
       "    <tr>\n",
       "      <th>321158</th>\n",
       "      <td>Grand Army Plaza &amp; Plaza St West</td>\n",
       "      <td>Grand Army Plaza &amp; Plaza St West</td>\n",
       "      <td>5076</td>\n",
       "    </tr>\n",
       "  </tbody>\n",
       "</table>\n",
       "</div>"
      ],
      "text/plain": [
       "                      start_station_name                  end_station_name  \\\n",
       "588666   West Drive & Prospect Park West   West Drive & Prospect Park West   \n",
       "155997            Central Park S & 6 Ave            Central Park S & 6 Ave   \n",
       "15315                   12 Ave & W 40 St                  12 Ave & W 40 St   \n",
       "14693                  12 Ave & W 125 St                 12 Ave & W 125 St   \n",
       "131005                Broadway & W 60 St                Broadway & W 60 St   \n",
       "133336     Brooklyn Bridge Park - Pier 2     Brooklyn Bridge Park - Pier 2   \n",
       "59627                    5 Ave & E 73 St                   5 Ave & E 73 St   \n",
       "16056                   12 Ave & W 40 St             West St & Chambers St   \n",
       "61043                    5 Ave & E 88 St                   5 Ave & E 88 St   \n",
       "321158  Grand Army Plaza & Plaza St West  Grand Army Plaza & Plaza St West   \n",
       "\n",
       "        num_rides  \n",
       "588666      12138  \n",
       "155997       6537  \n",
       "15315        6316  \n",
       "14693        6018  \n",
       "131005       5640  \n",
       "133336       5491  \n",
       "59627        5450  \n",
       "16056        5224  \n",
       "61043        5188  \n",
       "321158       5076  "
      ]
     },
     "execution_count": 104,
     "metadata": {},
     "output_type": "execute_result"
    }
   ],
   "source": [
    "df20.groupby(['start_station_name', 'end_station_name']).size().reset_index(name='num_rides').sort_values(by='num_rides', ascending=False).head(10)"
   ]
  },
  {
   "cell_type": "code",
   "execution_count": 107,
   "id": "f458d324",
   "metadata": {},
   "outputs": [
    {
     "data": {
      "text/html": [
       "<div>\n",
       "<style scoped>\n",
       "    .dataframe tbody tr th:only-of-type {\n",
       "        vertical-align: middle;\n",
       "    }\n",
       "\n",
       "    .dataframe tbody tr th {\n",
       "        vertical-align: top;\n",
       "    }\n",
       "\n",
       "    .dataframe thead th {\n",
       "        text-align: right;\n",
       "    }\n",
       "</style>\n",
       "<table border=\"1\" class=\"dataframe\">\n",
       "  <thead>\n",
       "    <tr style=\"text-align: right;\">\n",
       "      <th></th>\n",
       "      <th>start_station_name</th>\n",
       "      <th>end_station_name</th>\n",
       "      <th>num_rides</th>\n",
       "    </tr>\n",
       "  </thead>\n",
       "  <tbody>\n",
       "    <tr>\n",
       "      <th>182018</th>\n",
       "      <td>E 7 St &amp; Avenue A</td>\n",
       "      <td>Cooper Square &amp; Astor Pl</td>\n",
       "      <td>8426</td>\n",
       "    </tr>\n",
       "    <tr>\n",
       "      <th>101001</th>\n",
       "      <td>Central Park S &amp; 6 Ave</td>\n",
       "      <td>Central Park S &amp; 6 Ave</td>\n",
       "      <td>6778</td>\n",
       "    </tr>\n",
       "    <tr>\n",
       "      <th>100923</th>\n",
       "      <td>Central Park S &amp; 6 Ave</td>\n",
       "      <td>5 Ave &amp; E 88 St</td>\n",
       "      <td>6092</td>\n",
       "    </tr>\n",
       "    <tr>\n",
       "      <th>284310</th>\n",
       "      <td>North Moore St &amp; Greenwich St</td>\n",
       "      <td>Vesey Pl &amp; River Terrace</td>\n",
       "      <td>5366</td>\n",
       "    </tr>\n",
       "    <tr>\n",
       "      <th>387546</th>\n",
       "      <td>West Drive &amp; Prospect Park West</td>\n",
       "      <td>West Drive &amp; Prospect Park West</td>\n",
       "      <td>5364</td>\n",
       "    </tr>\n",
       "    <tr>\n",
       "      <th>336761</th>\n",
       "      <td>Vesey Pl &amp; River Terrace</td>\n",
       "      <td>North Moore St &amp; Greenwich St</td>\n",
       "      <td>5274</td>\n",
       "    </tr>\n",
       "    <tr>\n",
       "      <th>10298</th>\n",
       "      <td>12 Ave &amp; W 40 St</td>\n",
       "      <td>West St &amp; Chambers St</td>\n",
       "      <td>5056</td>\n",
       "    </tr>\n",
       "    <tr>\n",
       "      <th>292116</th>\n",
       "      <td>Pershing Square North</td>\n",
       "      <td>E 24 St &amp; Park Ave S</td>\n",
       "      <td>5051</td>\n",
       "    </tr>\n",
       "    <tr>\n",
       "      <th>265976</th>\n",
       "      <td>McGuinness Blvd &amp; Eagle St</td>\n",
       "      <td>Vernon Blvd &amp; 50 Ave</td>\n",
       "      <td>4999</td>\n",
       "    </tr>\n",
       "    <tr>\n",
       "      <th>313902</th>\n",
       "      <td>Soissons Landing</td>\n",
       "      <td>Soissons Landing</td>\n",
       "      <td>4971</td>\n",
       "    </tr>\n",
       "  </tbody>\n",
       "</table>\n",
       "</div>"
      ],
      "text/plain": [
       "                     start_station_name                 end_station_name  \\\n",
       "182018                E 7 St & Avenue A         Cooper Square & Astor Pl   \n",
       "101001           Central Park S & 6 Ave           Central Park S & 6 Ave   \n",
       "100923           Central Park S & 6 Ave                  5 Ave & E 88 St   \n",
       "284310    North Moore St & Greenwich St         Vesey Pl & River Terrace   \n",
       "387546  West Drive & Prospect Park West  West Drive & Prospect Park West   \n",
       "336761         Vesey Pl & River Terrace    North Moore St & Greenwich St   \n",
       "10298                  12 Ave & W 40 St            West St & Chambers St   \n",
       "292116            Pershing Square North             E 24 St & Park Ave S   \n",
       "265976       McGuinness Blvd & Eagle St             Vernon Blvd & 50 Ave   \n",
       "313902                 Soissons Landing                 Soissons Landing   \n",
       "\n",
       "        num_rides  \n",
       "182018       8426  \n",
       "101001       6778  \n",
       "100923       6092  \n",
       "284310       5366  \n",
       "387546       5364  \n",
       "336761       5274  \n",
       "10298        5056  \n",
       "292116       5051  \n",
       "265976       4999  \n",
       "313902       4971  "
      ]
     },
     "execution_count": 107,
     "metadata": {},
     "output_type": "execute_result"
    }
   ],
   "source": [
    "df19.groupby(['start_station_name', 'end_station_name']).size().reset_index(name='num_rides').sort_values(by='num_rides', ascending=False).head(10)"
   ]
  },
  {
   "cell_type": "code",
   "execution_count": 106,
   "id": "98c67d0b",
   "metadata": {},
   "outputs": [
    {
     "data": {
      "text/html": [
       "<div>\n",
       "<style scoped>\n",
       "    .dataframe tbody tr th:only-of-type {\n",
       "        vertical-align: middle;\n",
       "    }\n",
       "\n",
       "    .dataframe tbody tr th {\n",
       "        vertical-align: top;\n",
       "    }\n",
       "\n",
       "    .dataframe thead th {\n",
       "        text-align: right;\n",
       "    }\n",
       "</style>\n",
       "<table border=\"1\" class=\"dataframe\">\n",
       "  <thead>\n",
       "    <tr style=\"text-align: right;\">\n",
       "      <th></th>\n",
       "      <th>start_station_name</th>\n",
       "      <th>end_station_name</th>\n",
       "      <th>num_rides</th>\n",
       "    </tr>\n",
       "  </thead>\n",
       "  <tbody>\n",
       "    <tr>\n",
       "      <th>86981</th>\n",
       "      <td>Central Park S &amp; 6 Ave</td>\n",
       "      <td>Central Park S &amp; 6 Ave</td>\n",
       "      <td>7852</td>\n",
       "    </tr>\n",
       "    <tr>\n",
       "      <th>160537</th>\n",
       "      <td>E 7 St &amp; Avenue A</td>\n",
       "      <td>Cooper Square &amp; Astor Pl</td>\n",
       "      <td>7249</td>\n",
       "    </tr>\n",
       "    <tr>\n",
       "      <th>191705</th>\n",
       "      <td>Grand Army Plaza &amp; Central Park S</td>\n",
       "      <td>Grand Army Plaza &amp; Central Park S</td>\n",
       "      <td>6344</td>\n",
       "    </tr>\n",
       "    <tr>\n",
       "      <th>86904</th>\n",
       "      <td>Central Park S &amp; 6 Ave</td>\n",
       "      <td>5 Ave &amp; E 88 St</td>\n",
       "      <td>6215</td>\n",
       "    </tr>\n",
       "    <tr>\n",
       "      <th>269963</th>\n",
       "      <td>S 4 St &amp; Wythe Ave</td>\n",
       "      <td>N 6 St &amp; Bedford Ave</td>\n",
       "      <td>5456</td>\n",
       "    </tr>\n",
       "    <tr>\n",
       "      <th>244215</th>\n",
       "      <td>N 6 St &amp; Bedford Ave</td>\n",
       "      <td>S 4 St &amp; Wythe Ave</td>\n",
       "      <td>5137</td>\n",
       "    </tr>\n",
       "    <tr>\n",
       "      <th>307459</th>\n",
       "      <td>W 21 St &amp; 6 Ave</td>\n",
       "      <td>9 Ave &amp; W 22 St</td>\n",
       "      <td>4996</td>\n",
       "    </tr>\n",
       "    <tr>\n",
       "      <th>255312</th>\n",
       "      <td>Pershing Square North</td>\n",
       "      <td>W 33 St &amp; 7 Ave</td>\n",
       "      <td>4663</td>\n",
       "    </tr>\n",
       "    <tr>\n",
       "      <th>254821</th>\n",
       "      <td>Pershing Square North</td>\n",
       "      <td>Broadway &amp; W 32 St</td>\n",
       "      <td>4465</td>\n",
       "    </tr>\n",
       "    <tr>\n",
       "      <th>90675</th>\n",
       "      <td>Centre St &amp; Chambers St</td>\n",
       "      <td>Centre St &amp; Chambers St</td>\n",
       "      <td>4464</td>\n",
       "    </tr>\n",
       "  </tbody>\n",
       "</table>\n",
       "</div>"
      ],
      "text/plain": [
       "                       start_station_name                   end_station_name  \\\n",
       "86981              Central Park S & 6 Ave             Central Park S & 6 Ave   \n",
       "160537                  E 7 St & Avenue A           Cooper Square & Astor Pl   \n",
       "191705  Grand Army Plaza & Central Park S  Grand Army Plaza & Central Park S   \n",
       "86904              Central Park S & 6 Ave                    5 Ave & E 88 St   \n",
       "269963                 S 4 St & Wythe Ave               N 6 St & Bedford Ave   \n",
       "244215               N 6 St & Bedford Ave                 S 4 St & Wythe Ave   \n",
       "307459                    W 21 St & 6 Ave                    9 Ave & W 22 St   \n",
       "255312              Pershing Square North                    W 33 St & 7 Ave   \n",
       "254821              Pershing Square North                 Broadway & W 32 St   \n",
       "90675             Centre St & Chambers St            Centre St & Chambers St   \n",
       "\n",
       "        num_rides  \n",
       "86981        7852  \n",
       "160537       7249  \n",
       "191705       6344  \n",
       "86904        6215  \n",
       "269963       5456  \n",
       "244215       5137  \n",
       "307459       4996  \n",
       "255312       4663  \n",
       "254821       4465  \n",
       "90675        4464  "
      ]
     },
     "execution_count": 106,
     "metadata": {},
     "output_type": "execute_result"
    }
   ],
   "source": [
    "df18.groupby(['start_station_name', 'end_station_name']).size().reset_index(name='num_rides').sort_values(by='num_rides', ascending=False).head(10)"
   ]
  },
  {
   "cell_type": "markdown",
   "id": "f6ff46c6",
   "metadata": {},
   "source": [
    "## Has the ratio of casual to member riders changed?\n",
    "\n",
    "The ratio of casual pay-per-ride riders vs. those who pay an annual membership fee for unlimited rides has increased over the past four years."
   ]
  },
  {
   "cell_type": "code",
   "execution_count": 451,
   "id": "9f8c8074",
   "metadata": {},
   "outputs": [
    {
     "data": {
      "text/plain": [
       "member    0.702988\n",
       "casual    0.297012\n",
       "Name: member_casual, dtype: float64"
      ]
     },
     "execution_count": 451,
     "metadata": {},
     "output_type": "execute_result"
    }
   ],
   "source": [
    "df21.member_casual.value_counts(normalize=True)"
   ]
  },
  {
   "cell_type": "code",
   "execution_count": 452,
   "id": "ef500c46",
   "metadata": {},
   "outputs": [
    {
     "data": {
      "text/plain": [
       "member    0.763915\n",
       "casual    0.236085\n",
       "Name: member_casual, dtype: float64"
      ]
     },
     "execution_count": 452,
     "metadata": {},
     "output_type": "execute_result"
    }
   ],
   "source": [
    "df20.member_casual.value_counts(normalize=True)"
   ]
  },
  {
   "cell_type": "code",
   "execution_count": 453,
   "id": "fc68f3d2",
   "metadata": {},
   "outputs": [
    {
     "data": {
      "text/plain": [
       "member    0.860246\n",
       "casual    0.139754\n",
       "Name: member_casual, dtype: float64"
      ]
     },
     "execution_count": 453,
     "metadata": {},
     "output_type": "execute_result"
    }
   ],
   "source": [
    "df19.member_casual.value_counts(normalize=True)"
   ]
  },
  {
   "cell_type": "code",
   "execution_count": 454,
   "id": "fc7667b3",
   "metadata": {},
   "outputs": [
    {
     "data": {
      "text/plain": [
       "member    0.889818\n",
       "casual    0.110182\n",
       "Name: member_casual, dtype: float64"
      ]
     },
     "execution_count": 454,
     "metadata": {},
     "output_type": "execute_result"
    }
   ],
   "source": [
    "df18.member_casual.value_counts(normalize=True)"
   ]
  },
  {
   "cell_type": "markdown",
   "id": "5dabbcfa",
   "metadata": {},
   "source": [
    "## Investigating \"unpredictable commuting patterns\"\n",
    "Citi Bike told [The New York Times](https://www.nytimes.com/2021/12/02/nyregion/citi-bike-parking-docking-station.html) that \"unpredictable commuting patterns\" during the pandemic make it hard to evenly distribute bikes and docks. How have commuting patterns changed?\n",
    "\n",
    "To do this, I'll reformat the data to include the number of trips that started and ended at each pair of stations in a year, by hour. "
   ]
  },
  {
   "cell_type": "markdown",
   "id": "c340f717",
   "metadata": {},
   "source": [
    "### Reformatting data for maps"
   ]
  },
  {
   "cell_type": "markdown",
   "id": "e7bc8745",
   "metadata": {},
   "source": [
    "#### Start points map"
   ]
  },
  {
   "cell_type": "code",
   "execution_count": 158,
   "id": "881c5720",
   "metadata": {},
   "outputs": [],
   "source": [
    "df21['started_at_hour'] = df21.started_at.dt.hour\n",
    "df20['started_at_hour'] = df20.started_at.dt.hour\n",
    "df19['started_at_hour'] = df19.started_at.dt.hour\n",
    "df18['started_at_hour'] = df18.started_at.dt.hour\n"
   ]
  },
  {
   "cell_type": "code",
   "execution_count": 160,
   "id": "c5267348",
   "metadata": {},
   "outputs": [],
   "source": [
    "map21_start = df21.groupby(['started_at_hour', 'start_lat', 'start_lng']).size().groupby(level=0, group_keys=False).nlargest(10).reset_index(name='num_rides')\n",
    "map21_start.started_at_hour = pd.to_datetime(map21_start.started_at_hour, format='%H')"
   ]
  },
  {
   "cell_type": "code",
   "execution_count": 161,
   "id": "2b55a8b8",
   "metadata": {},
   "outputs": [],
   "source": [
    "map20_start = df20.groupby(['started_at_hour', 'start_lat', 'start_lng']).size().groupby(level=0, group_keys=False).nlargest(10).reset_index(name='num_rides')\n",
    "map20_start.started_at_hour = pd.to_datetime(map20_start.started_at_hour, format='%H')"
   ]
  },
  {
   "cell_type": "code",
   "execution_count": 167,
   "id": "365c9730",
   "metadata": {},
   "outputs": [],
   "source": [
    "map19_start = df19.groupby(['started_at_hour', 'start_lat', 'start_lng']).size().groupby(level=0, group_keys=False).nlargest(10).reset_index(name='num_rides')\n",
    "map19_start.started_at_hour = pd.to_datetime(map19_start.started_at_hour, format='%H')"
   ]
  },
  {
   "cell_type": "code",
   "execution_count": 162,
   "id": "b62917a3",
   "metadata": {},
   "outputs": [],
   "source": [
    "map18_start = df18.groupby(['started_at_hour', 'start_lat', 'start_lng']).size().groupby(level=0, group_keys=False).nlargest(10).reset_index(name='num_rides')\n",
    "map18_start.started_at_hour = pd.to_datetime(map18_start.started_at_hour, format='%H')"
   ]
  },
  {
   "cell_type": "code",
   "execution_count": 170,
   "id": "4b9336d2",
   "metadata": {},
   "outputs": [],
   "source": [
    "map21_start['year'] = 2021\n",
    "map20_start['year'] = 2020\n",
    "map19_start['year'] = 2019\n",
    "map18_start['year'] = 2018"
   ]
  },
  {
   "cell_type": "code",
   "execution_count": 313,
   "id": "f6b69d46",
   "metadata": {},
   "outputs": [],
   "source": [
    "all_maps_start = pd.concat([map21_start, map20_start, map19_start, map18_start])"
   ]
  },
  {
   "cell_type": "code",
   "execution_count": 301,
   "id": "20bd6759",
   "metadata": {},
   "outputs": [],
   "source": [
    "#Adding station names to the all_maps_start dataframe \n",
    "df21['start_lat_lng'] = df21.start_lat.astype(str) + ' ' + df21.start_lng.astype(str)\n",
    "station_names = df21.groupby(['start_station_name', 'start_lat_lng']).size().reset_index(name='rides')"
   ]
  },
  {
   "cell_type": "code",
   "execution_count": 314,
   "id": "0330049f",
   "metadata": {},
   "outputs": [],
   "source": [
    "all_maps_start['start_lat_lng'] = all_maps_start.start_lat.astype(str) + ' ' + all_maps_start.start_lng.astype(str)"
   ]
  },
  {
   "cell_type": "code",
   "execution_count": 315,
   "id": "ad9a55a6",
   "metadata": {},
   "outputs": [],
   "source": [
    "all_maps_start = all_maps_start.merge(station_names, on='start_lat_lng').drop(columns=['start_lat_lng', 'rides'])"
   ]
  },
  {
   "cell_type": "code",
   "execution_count": 316,
   "id": "4f5f5b3c",
   "metadata": {},
   "outputs": [],
   "source": [
    "#Reformatting hour for readability\n",
    "all_maps_start['hour_formatted'] = all_maps_start.started_at_hour.dt.strftime('%-I:00 %p')"
   ]
  },
  {
   "cell_type": "code",
   "execution_count": null,
   "id": "9c106323",
   "metadata": {},
   "outputs": [],
   "source": [
    "#Several stations were oddly mislabeled. I ran this cell to identify places where stations\n",
    "#at the same coordinates had multiple names\n",
    "pd.set_option('display.max_rows', 200)\n",
    "all_maps_start[all_maps_start.duplicated(subset=['num_rides','start_lng'], keep=False) == True].sort_values('num_rides')"
   ]
  },
  {
   "cell_type": "code",
   "execution_count": 358,
   "id": "047a7d94",
   "metadata": {},
   "outputs": [],
   "source": [
    "#Manually fixing all the geo mismatches\n",
    "all_maps_start.loc[all_maps_start.start_station_name == '6 Ave & W 33 St', 'start_station_name'] = 'W 33 St & 7 Ave'\n",
    "all_maps_start.loc[all_maps_start.start_station_name == '6 Ave & Broome St', 'start_station_name'] = 'Cleveland Pl & Spring St'\n",
    "all_maps_start.loc[all_maps_start.start_station_name == 'E 17 St & Broadway', 'start_station_name'] = 'Cleveland Pl & Spring St'\n",
    "all_maps_start.loc[all_maps_start.start_station_name == 'Broad St & Bridge St', 'start_station_name'] = 'West St & Chambers St'\n",
    "all_maps_start.loc[all_maps_start.start_station_name == 'E 41 St & Madison Ave (SW corner)', 'start_station_name'] = '1 Ave & E 18 St'\n",
    "all_maps_start.loc[all_maps_start.start_station_name == '8 Ave & W 52 St', 'start_station_name'] = '8 Ave & W 38 St'\n",
    "all_maps_start.loc[all_maps_start.start_station_name == '9 Ave & W 45 St', 'start_station_name'] = '8 Ave & W 38 St'\n",
    "all_maps_start.loc[all_maps_start.start_station_name == '9 Ave & W 45 St', 'start_station_name'] = '8 Ave & W 38 St'\n",
    "all_maps_start.loc[all_maps_start.start_station_name == 'FDR Drive & E 35 St', 'start_station_name'] = 'Pershing Square North'\n",
    "all_maps_start.loc[all_maps_start.start_station_name == 'E 40 St & Park Ave', 'start_station_name'] = 'Pershing Square North'\n"
   ]
  },
  {
   "cell_type": "code",
   "execution_count": 360,
   "id": "9c06a3fa",
   "metadata": {},
   "outputs": [],
   "source": [
    "all_maps_start.drop_duplicates(inplace=True)"
   ]
  },
  {
   "cell_type": "code",
   "execution_count": 362,
   "id": "22b7ff87",
   "metadata": {},
   "outputs": [],
   "source": [
    "all_maps_start.to_csv('all_maps_start.csv')"
   ]
  },
  {
   "cell_type": "markdown",
   "id": "7cbabd8b",
   "metadata": {},
   "source": [
    "#### End points map"
   ]
  },
  {
   "cell_type": "code",
   "execution_count": 201,
   "id": "7393454d",
   "metadata": {},
   "outputs": [],
   "source": [
    "df21['ended_at_hour'] = df21.ended_at.dt.hour\n",
    "df20['ended_at_hour'] = df20.ended_at.dt.hour\n",
    "df19['ended_at_hour'] = df19.ended_at.dt.hour\n",
    "df18['ended_at_hour'] = df18.ended_at.dt.hour"
   ]
  },
  {
   "cell_type": "code",
   "execution_count": 202,
   "id": "90a13be5",
   "metadata": {},
   "outputs": [],
   "source": [
    "map21_end = df21.groupby(['ended_at_hour', 'end_lat', 'end_lng']).size().groupby(level=0, group_keys=False).nlargest(10).reset_index(name='num_rides')\n",
    "map21_end.ended_at_hour = pd.to_datetime(map21_end.ended_at_hour, format='%H')\n",
    "\n",
    "map20_end = df20.groupby(['ended_at_hour', 'end_lat', 'end_lng']).size().groupby(level=0, group_keys=False).nlargest(10).reset_index(name='num_rides')\n",
    "map20_end.ended_at_hour = pd.to_datetime(map20_end.ended_at_hour, format='%H')\n",
    "\n",
    "map19_end = df19.groupby(['ended_at_hour', 'end_lat', 'end_lng']).size().groupby(level=0, group_keys=False).nlargest(10).reset_index(name='num_rides')\n",
    "map19_end.ended_at_hour = pd.to_datetime(map19_end.ended_at_hour, format='%H')\n",
    "\n",
    "map18_end = df18.groupby(['ended_at_hour', 'end_lat', 'end_lng']).size().groupby(level=0, group_keys=False).nlargest(10).reset_index(name='num_rides')\n",
    "map18_end.ended_at_hour = pd.to_datetime(map18_end.ended_at_hour, format='%H')\n",
    "\n",
    "map21_end['year'] = 2021\n",
    "map20_end['year'] = 2020\n",
    "map19_end['year'] = 2019\n",
    "map18_end['year'] = 2018"
   ]
  },
  {
   "cell_type": "code",
   "execution_count": 392,
   "id": "466de986",
   "metadata": {},
   "outputs": [],
   "source": [
    "all_maps_end = pd.concat([map21_end, map20_end, map19_end, map18_end])"
   ]
  },
  {
   "cell_type": "code",
   "execution_count": 371,
   "id": "93ddb210",
   "metadata": {},
   "outputs": [],
   "source": [
    "df21['end_lat_lng'] = df21.end_lat.astype(str) + ' ' + df21.end_lng.astype(str)\n",
    "station_names_end = df21.groupby(['end_station_name', 'end_lat_lng']).size().reset_index(name='rides')"
   ]
  },
  {
   "cell_type": "code",
   "execution_count": 393,
   "id": "18a7cdb9",
   "metadata": {},
   "outputs": [],
   "source": [
    "all_maps_end['end_lat_lng'] = all_maps_end.end_lat.astype(str) + ' ' + all_maps_end.end_lng.astype(str)"
   ]
  },
  {
   "cell_type": "code",
   "execution_count": 394,
   "id": "6061b5b9",
   "metadata": {},
   "outputs": [],
   "source": [
    "#Outer join used because some coordinates didn't have station name matches\n",
    "all_maps_end = all_maps_end.merge(station_names_end, on='end_lat_lng', how='outer').drop(columns=['end_lat_lng','rides'])"
   ]
  },
  {
   "cell_type": "code",
   "execution_count": 403,
   "id": "0069e4c2",
   "metadata": {},
   "outputs": [],
   "source": [
    "#Drop all station names not found in the original all_maps_end dataset\n",
    "all_maps_end.dropna(subset=['ended_at_hour'], inplace=True)"
   ]
  },
  {
   "cell_type": "code",
   "execution_count": 404,
   "id": "f2fc5659",
   "metadata": {},
   "outputs": [],
   "source": [
    "all_maps_end['hour_formatted'] = all_maps_end.ended_at_hour.dt.strftime('%-I:00 %p')"
   ]
  },
  {
   "cell_type": "code",
   "execution_count": 436,
   "id": "61fd15aa",
   "metadata": {},
   "outputs": [
    {
     "data": {
      "text/html": [
       "<div>\n",
       "<style scoped>\n",
       "    .dataframe tbody tr th:only-of-type {\n",
       "        vertical-align: middle;\n",
       "    }\n",
       "\n",
       "    .dataframe tbody tr th {\n",
       "        vertical-align: top;\n",
       "    }\n",
       "\n",
       "    .dataframe thead th {\n",
       "        text-align: right;\n",
       "    }\n",
       "</style>\n",
       "<table border=\"1\" class=\"dataframe\">\n",
       "  <thead>\n",
       "    <tr style=\"text-align: right;\">\n",
       "      <th></th>\n",
       "      <th>ended_at_hour</th>\n",
       "      <th>end_lat</th>\n",
       "      <th>end_lng</th>\n",
       "      <th>num_rides</th>\n",
       "      <th>year</th>\n",
       "      <th>end_station_name</th>\n",
       "      <th>hour_formatted</th>\n",
       "    </tr>\n",
       "  </thead>\n",
       "  <tbody>\n",
       "  </tbody>\n",
       "</table>\n",
       "</div>"
      ],
      "text/plain": [
       "Empty DataFrame\n",
       "Columns: [ended_at_hour, end_lat, end_lng, num_rides, year, end_station_name, hour_formatted]\n",
       "Index: []"
      ]
     },
     "execution_count": 436,
     "metadata": {},
     "output_type": "execute_result"
    }
   ],
   "source": [
    "#Identify coordinates without station match\n",
    "all_maps_end[all_maps_end.end_station_name.isna() == True]"
   ]
  },
  {
   "cell_type": "code",
   "execution_count": 435,
   "id": "c6870801",
   "metadata": {},
   "outputs": [],
   "source": [
    "#Manually input station name to unmatched coordinates after looking them up in the\n",
    "#original df20, df21 dataframes and on Google Maps\n",
    "all_maps_end.loc[826:830, 'end_station_name'] = 'W 20 St & 11 Ave'\n",
    "all_maps_end.loc[904:914, 'end_station_name'] = 'Lexington Ave & E 24th St'\n",
    "all_maps_end.loc[919:921, 'end_station_name'] = 'W 51st St & Rockefeller Plaza'\n",
    "all_maps_end.loc[935, 'end_station_name'] = '8 Ave & W 38th St'\n",
    "all_maps_end.loc[949, 'end_station_name'] = 'E 55th St & 3rd Ave'\n",
    "all_maps_end.loc[953, 'end_station_name'] = '6 Ave & W 33rd St'\n"
   ]
  },
  {
   "cell_type": "code",
   "execution_count": null,
   "id": "fbf018df",
   "metadata": {},
   "outputs": [],
   "source": [
    "#Checking for station mislabeling \n",
    "pd.set_option('display.max_rows', 200)\n",
    "all_maps_end[all_maps_end.duplicated(subset=['num_rides','end_lng'], keep=False) == True].sort_values('num_rides')"
   ]
  },
  {
   "cell_type": "code",
   "execution_count": 445,
   "id": "d82ab7d0",
   "metadata": {},
   "outputs": [],
   "source": [
    "all_maps_end.year = all_maps_end.year.astype(int)\n",
    "all_maps_end.num_rides = all_maps_end.num_rides.astype(int)"
   ]
  },
  {
   "cell_type": "code",
   "execution_count": 446,
   "id": "cf668a12",
   "metadata": {},
   "outputs": [],
   "source": [
    "all_maps_end.to_csv('all_maps_end.csv')"
   ]
  }
 ],
 "metadata": {
  "kernelspec": {
   "display_name": "Python 3 (ipykernel)",
   "language": "python",
   "name": "python3"
  },
  "language_info": {
   "codemirror_mode": {
    "name": "ipython",
    "version": 3
   },
   "file_extension": ".py",
   "mimetype": "text/x-python",
   "name": "python",
   "nbconvert_exporter": "python",
   "pygments_lexer": "ipython3",
   "version": "3.10.0"
  }
 },
 "nbformat": 4,
 "nbformat_minor": 5
}
